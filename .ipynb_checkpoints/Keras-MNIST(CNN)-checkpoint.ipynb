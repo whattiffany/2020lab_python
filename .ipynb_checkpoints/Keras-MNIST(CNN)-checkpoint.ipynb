{
 "cells": [
  {
   "cell_type": "code",
   "execution_count": 1,
   "metadata": {},
   "outputs": [
    {
     "name": "stderr",
     "output_type": "stream",
     "text": [
      "Using TensorFlow backend.\n"
     ]
    },
    {
     "name": "stdout",
     "output_type": "stream",
     "text": [
      "_________________________________________________________________\n",
      "Layer (type)                 Output Shape              Param #   \n",
      "=================================================================\n",
      "conv2d_1 (Conv2D)            (None, 1, 28, 32)         8096      \n",
      "_________________________________________________________________\n",
      "max_pooling2d_1 (MaxPooling2 (None, 1, 14, 16)         0         \n",
      "_________________________________________________________________\n",
      "flatten_1 (Flatten)          (None, 224)               0         \n",
      "_________________________________________________________________\n",
      "dense_1 (Dense)              (None, 256)               57600     \n",
      "_________________________________________________________________\n",
      "dense_2 (Dense)              (None, 10)                2570      \n",
      "=================================================================\n",
      "Total params: 68,266\n",
      "Trainable params: 68,266\n",
      "Non-trainable params: 0\n",
      "_________________________________________________________________\n",
      "None\n",
      "Epoch 1/10\n",
      "60000/60000 [==============================] - 13s 217us/step - loss: 0.3198 - acc: 0.9076\n",
      "Epoch 2/10\n",
      "60000/60000 [==============================] - 13s 209us/step - loss: 0.1218 - acc: 0.96340s - loss: 0.12\n",
      "Epoch 3/10\n",
      "60000/60000 [==============================] - 13s 217us/step - loss: 0.0870 - acc: 0.9731\n",
      "Epoch 4/10\n",
      "60000/60000 [==============================] - 14s 237us/step - loss: 0.0678 - acc: 0.9788\n",
      "Epoch 5/10\n",
      "60000/60000 [==============================] - 14s 241us/step - loss: 0.0559 - acc: 0.9827\n",
      "Epoch 6/10\n",
      "60000/60000 [==============================] - 17s 276us/step - loss: 0.0470 - acc: 0.9851\n",
      "Epoch 7/10\n",
      "60000/60000 [==============================] - 16s 259us/step - loss: 0.0391 - acc: 0.9879\n",
      "Epoch 8/10\n",
      "60000/60000 [==============================] - 11s 183us/step - loss: 0.0331 - acc: 0.9891\n",
      "Epoch 9/10\n",
      "60000/60000 [==============================] - 13s 220us/step - loss: 0.0288 - acc: 0.99081s - loss: 0.0285 - acc: 0 - ETA: 1s - l\n",
      "Epoch 10/10\n",
      "60000/60000 [==============================] - 13s 213us/step - loss: 0.0253 - acc: 0.9919\n",
      "10000/10000 [==============================] - 2s 153us/step\n",
      "Test:\n",
      "Loss: 0.045186822447550366\n",
      "Accuracy: 0.9869\n"
     ]
    }
   ],
   "source": [
    "# -*- coding: utf-8 -*-\n",
    "import os\n",
    "from keras.models import Sequential, load_model\n",
    "from keras.layers import Dense, Dropout, Flatten, Conv2D, MaxPool2D\n",
    "from keras.utils import np_utils, plot_model\n",
    "from keras.datasets import mnist\n",
    "import matplotlib.pyplot as plt\n",
    "import pandas as pd\n",
    "\n",
    "\n",
    "# Mnist Dataset\n",
    "(X_train, Y_train), (X_test, Y_test) = mnist.load_data()\n",
    "x_train = X_train.reshape(60000, 1, 28, 28)/255\n",
    "x_test = X_test.reshape(10000, 1, 28, 28)/255\n",
    "y_train = np_utils.to_categorical(Y_train)\n",
    "y_test = np_utils.to_categorical(Y_test)\n",
    "\n",
    "# Model Structure\n",
    "model = Sequential()\n",
    "model.add(Conv2D(filters=32, kernel_size=3, input_shape=(1, 28, 28), activation='relu', padding='same'))\n",
    "model.add(MaxPool2D(pool_size=2, data_format='channels_first'))\n",
    "model.add(Flatten())\n",
    "model.add(Dense(256, activation='relu'))\n",
    "model.add(Dense(10, activation='softmax'))\n",
    "print(model.summary())\n",
    "\n",
    "# Train\n",
    "model.compile(loss='categorical_crossentropy', optimizer='adam', metrics=['accuracy'])\n",
    "model.fit(x_train, y_train, epochs=10, batch_size=64, verbose=1)\n",
    "# Test\n",
    "loss, accuracy = model.evaluate(x_test, y_test)\n",
    "print('Test:')\n",
    "print('Loss: %s\\nAccuracy: %s' % (loss, accuracy))\n",
    "\n",
    "# Save model\n",
    "model.save('./CNN_Mnist.h5')\n",
    "\n",
    "# Load Model\n",
    "model = load_model('./CNN_Mnist.h5')\n",
    "\n",
    "\n",
    "# Display\n",
    "def plot_img(n):\n",
    "    plt.imshow(X_test[n], cmap='gray')\n",
    "    plt.show()\n",
    "\n",
    "\n",
    "def all_img_predict(model):\n",
    "    print(model.summary())\n",
    "    loss, accuracy = model.evaluate(x_test, y_test)\n",
    "    print('Loss:', loss)\n",
    "    print('Accuracy:', accuracy)\n",
    "    predict = model.predict_classes(x_test)\n",
    "    print(pd.crosstab(Y_test.reshape(-1), predict, rownames=['Label'], colnames=['predict']))\n",
    "\n",
    "\n",
    "def one_img_predict(model, n):\n",
    "    predict = model.predict_classes(x_test)\n",
    "    print('Prediction:', predict[n])\n",
    "    print('Answer:', Y_test[n])\n",
    "    plot_img(n)"
   ]
  },
  {
   "cell_type": "code",
   "execution_count": 2,
   "metadata": {},
   "outputs": [
    {
     "name": "stdout",
     "output_type": "stream",
     "text": [
      "_________________________________________________________________\n",
      "Layer (type)                 Output Shape              Param #   \n",
      "=================================================================\n",
      "conv2d_1 (Conv2D)            (None, 1, 28, 32)         8096      \n",
      "_________________________________________________________________\n",
      "max_pooling2d_1 (MaxPooling2 (None, 1, 14, 16)         0         \n",
      "_________________________________________________________________\n",
      "flatten_1 (Flatten)          (None, 224)               0         \n",
      "_________________________________________________________________\n",
      "dense_1 (Dense)              (None, 256)               57600     \n",
      "_________________________________________________________________\n",
      "dense_2 (Dense)              (None, 10)                2570      \n",
      "=================================================================\n",
      "Total params: 68,266\n",
      "Trainable params: 68,266\n",
      "Non-trainable params: 0\n",
      "_________________________________________________________________\n",
      "None\n",
      "10000/10000 [==============================] - 2s 151us/step\n",
      "Loss: 0.045186822447550366\n",
      "Accuracy: 0.9869\n",
      "predict    0     1     2     3    4    5    6     7    8    9\n",
      "Label                                                        \n",
      "0        974     0     1     0    0    0    2     1    2    0\n",
      "1          0  1131     2     0    0    1    1     0    0    0\n",
      "2          3     3  1016     2    1    0    0     3    4    0\n",
      "3          0     0     0  1003    0    2    0     1    1    3\n",
      "4          0     0     1     0  970    0    5     2    0    4\n",
      "5          2     1     0     1    0  887    1     0    0    0\n",
      "6          3     4     0     1    1    7  939     0    2    1\n",
      "7          0     4     6     3    1    0    0  1011    0    3\n",
      "8          1     0     2     3    1    6    2     1  956    2\n",
      "9          1     4     0     4    6    1    1     5    5  982\n"
     ]
    }
   ],
   "source": [
    "all_img_predict(model)"
   ]
  },
  {
   "cell_type": "code",
   "execution_count": 3,
   "metadata": {},
   "outputs": [
    {
     "name": "stdout",
     "output_type": "stream",
     "text": [
      "Prediction: 1\n",
      "Answer: 1\n"
     ]
    },
    {
     "data": {
      "image/png": "[encoded data removed]",
      "text/plain": [
       "<Figure size 432x288 with 1 Axes>"
      ]
     },
     "metadata": {
      "needs_background": "light"
     },
     "output_type": "display_data"
    }
   ],
   "source": [
    "one_img_predict(model,5)"
   ]
  },
  {
   "cell_type": "code",
   "execution_count": 4,
   "metadata": {},
   "outputs": [
    {
     "name": "stdout",
     "output_type": "stream",
     "text": [
      "Prediction: 9\n",
      "Answer: 9\n"
     ]
    },
    {
     "data": {
      "image/png": "[encoded data removed]",
      "text/plain": [
       "<Figure size 432x288 with 1 Axes>"
      ]
     },
     "metadata": {
      "needs_background": "light"
     },
     "output_type": "display_data"
    }
   ],
   "source": [
    "one_img_predict(model,9)"
   ]
  }
 ],
 "metadata": {
  "kernelspec": {
   "display_name": "Python 3",
   "language": "python",
   "name": "python3"
  },
  "language_info": {
   "codemirror_mode": {
    "name": "ipython",
    "version": 3
   },
   "file_extension": ".py",
   "mimetype": "text/x-python",
   "name": "python",
   "nbconvert_exporter": "python",
   "pygments_lexer": "ipython3",
   "version": "3.6.10"
  }
 },
 "nbformat": 4,
 "nbformat_minor": 4
}
